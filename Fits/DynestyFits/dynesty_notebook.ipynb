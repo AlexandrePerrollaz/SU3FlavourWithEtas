{
 "cells": [
  {
   "cell_type": "code",
   "execution_count": 7,
   "metadata": {},
   "outputs": [],
   "source": [
    "%reload_ext autoreload\n",
    "%autoreload 2\n",
    "\n",
    "import numpy as np\n",
    "import matplotlib.pyplot as plt\n",
    "import os\n",
    "import multiprocessing as mp\n",
    "from multiprocessing import Pool\n",
    "import dynesty\n",
    "from dynesty import plotting as dyplot\n",
    "from chi2_functions import chi2\n"
   ]
  },
  {
   "cell_type": "code",
   "execution_count": 8,
   "metadata": {},
   "outputs": [],
   "source": [
    "os.environ[\"OMP_NUM_THREADS\"] = \"1\"\n"
   ]
  },
  {
   "cell_type": "code",
   "execution_count": 9,
   "metadata": {},
   "outputs": [],
   "source": [
    "def prior_transform(u):\n",
    "  u_ampT8X8, u_ampC8X8, u_ampPuc8X8, u_ampA8X8, u_ampPAuc8X8, u_ampPtc8X8, u_ampPAtc8X8,\\\n",
    "  u_delC8X8, u_delPuc8X8, u_delA8X8, u_delPAuc8X8, u_delPtc8X8, u_delPAtc8X8,\\\n",
    "  u_ampT8X1, u_ampC8X1, u_ampPuc8X1, u_ampPtc8X1,\\\n",
    "  u_delT8X1, u_delC8X1, u_delPuc8X1, u_delPtc8X1,\\\n",
    "  u_ampC1X1, u_ampPtc1X1,\\\n",
    "  u_delC1X1, u_delPtc1X1 = u\n",
    "\n",
    "  ampT8X8 = 5 + 5*u_ampT8X8\n",
    "  ampC8X8 = 5 + 5*u_ampC8X8\n",
    "  ampPuc8X8 = 5 + 5*u_ampPuc8X8\n",
    "  ampA8X8 = 5 + 5*u_ampA8X8\n",
    "  ampPAuc8X8 = 5 + 5*u_ampPAuc8X8\n",
    "  ampPtc8X8 = 5 + 5*u_ampPtc8X8\n",
    "  ampPAtc8X8 = 5 + 5*u_ampPAtc8X8\n",
    "\n",
    "  delC8X8 = 2*np.pi*u_delC8X8\n",
    "  delPuc8X8 = 2*np.pi*u_delPuc8X8\n",
    "  delA8X8 = 2*np.pi*u_delA8X8\n",
    "  delPAuc8X8 = 2*np.pi*u_delPAuc8X8\n",
    "  delPtc8X8 = 2*np.pi*u_delPtc8X8\n",
    "  delPAtc8X8 = 2*np.pi*u_delPAtc8X8\n",
    "\n",
    "  ampT8X1 = 5 + 5*u_ampT8X1\n",
    "  ampC8X1 = 5 + 5*u_ampC8X1\n",
    "  ampPuc8X1 = 5 + 5*u_ampPuc8X1\n",
    "  ampPtc8X1 = 5 + 5*u_ampPtc8X1\n",
    "\n",
    "  delT8X1 = 2*np.pi*u_delT8X1\n",
    "  delC8X1 = 2*np.pi*u_delC8X1\n",
    "  delPuc8X1 = 2*np.pi*u_delPuc8X1\n",
    "  delPtc8X1 = 2*np.pi*u_delPtc8X1\n",
    "\n",
    "  ampC1X1 = 5 + 5*u_ampC1X1\n",
    "  ampPtc1X1 = 5 + 5*u_ampPtc1X1\n",
    "  \n",
    "  delC1X1 = 2*np.pi*u_delC1X1\n",
    "  delPtc1X1 = 2*np.pi*u_delPtc1X1\n",
    "\n",
    "  return np.array([ampT8X8, ampC8X8, ampPuc8X8, ampA8X8, ampPAuc8X8, ampPtc8X8, ampPAtc8X8,\\\n",
    "          delC8X8, delPuc8X8, delA8X8, delPAuc8X8, delPtc8X8, delPAtc8X8,\\\n",
    "          ampT8X1, ampC8X1, ampPuc8X1, ampPtc8X1,\\\n",
    "          delT8X1, delC8X1, delPuc8X1, delPtc8X1,\\\n",
    "          ampC1X1, ampPtc1X1,\\\n",
    "          delC1X1, delPtc1X1])"
   ]
  },
  {
   "cell_type": "code",
   "execution_count": 10,
   "metadata": {},
   "outputs": [
    {
     "data": {
      "text/plain": [
       "-20592848.80626209"
      ]
     },
     "execution_count": 10,
     "metadata": {},
     "output_type": "execute_result"
    }
   ],
   "source": [
    "u = np.random.uniform(0,1,25)\n",
    "d = prior_transform(u)\n",
    "chi2(d)"
   ]
  },
  {
   "cell_type": "code",
   "execution_count": 4,
   "metadata": {},
   "outputs": [
    {
     "name": "stderr",
     "output_type": "stream",
     "text": [
      "iter: 3022 | batch: 0 | bound: 7 | nc: 145 | ncall: 213320 | eff(%):  1.413 | loglstar:   -inf <   -inf <    inf | logz:   -inf +/-  0.161 | dlogz:    inf >  0.010                                   "
     ]
    },
    {
     "ename": "KeyboardInterrupt",
     "evalue": "",
     "output_type": "error",
     "traceback": [
      "\u001b[1;31m---------------------------------------------------------------------------\u001b[0m",
      "\u001b[1;31mKeyboardInterrupt\u001b[0m                         Traceback (most recent call last)",
      "Cell \u001b[1;32mIn[4], line 15\u001b[0m\n\u001b[0;32m      8\u001b[0m sampler  \u001b[38;5;241m=\u001b[39m dynesty\u001b[38;5;241m.\u001b[39mDynamicNestedSampler(chi2,\n\u001b[0;32m      9\u001b[0m                                         prior_transform, \n\u001b[0;32m     10\u001b[0m                                         sample\u001b[38;5;241m=\u001b[39m\u001b[38;5;124m'\u001b[39m\u001b[38;5;124mrslice\u001b[39m\u001b[38;5;124m'\u001b[39m,\n\u001b[0;32m     11\u001b[0m                                         ndim\u001b[38;5;241m=\u001b[39mndim, \n\u001b[0;32m     12\u001b[0m                                         nlive\u001b[38;5;241m=\u001b[39mnlive)\n\u001b[0;32m     13\u001b[0m                                         \u001b[38;5;66;03m#pool=pool, \u001b[39;00m\n\u001b[0;32m     14\u001b[0m                                         \u001b[38;5;66;03m#queue_size=nworkers)\u001b[39;00m\n\u001b[1;32m---> 15\u001b[0m \u001b[43msampler\u001b[49m\u001b[38;5;241;43m.\u001b[39;49m\u001b[43mrun_nested\u001b[49m\u001b[43m(\u001b[49m\u001b[43m)\u001b[49m\n\u001b[0;32m     16\u001b[0m \u001b[38;5;66;03m#pool.close()\u001b[39;00m\n\u001b[0;32m     17\u001b[0m \u001b[38;5;66;03m#pool.join()\u001b[39;00m\n\u001b[0;32m     18\u001b[0m results \u001b[38;5;241m=\u001b[39m sampler\u001b[38;5;241m.\u001b[39mresults\n",
      "File \u001b[1;32mc:\\Users\\alexa\\miniconda3\\envs\\su3flavour\\lib\\site-packages\\dynesty\\dynamicsampler.py:2055\u001b[0m, in \u001b[0;36mDynamicSampler.run_nested\u001b[1;34m(self, nlive_init, maxiter_init, maxcall_init, dlogz_init, logl_max_init, n_effective_init, nlive_batch, wt_function, wt_kwargs, maxiter_batch, maxcall_batch, maxiter, maxcall, maxbatch, n_effective, stop_function, stop_kwargs, use_stop, save_bounds, print_progress, print_func, live_points, resume, checkpoint_file, checkpoint_every)\u001b[0m\n\u001b[0;32m   2053\u001b[0m \u001b[38;5;28;01mtry\u001b[39;00m:\n\u001b[0;32m   2054\u001b[0m     \u001b[38;5;28;01mif\u001b[39;00m \u001b[38;5;129;01mnot\u001b[39;00m \u001b[38;5;28mself\u001b[39m\u001b[38;5;241m.\u001b[39mbase:\n\u001b[1;32m-> 2055\u001b[0m         \u001b[38;5;28;01mfor\u001b[39;00m results \u001b[38;5;129;01min\u001b[39;00m \u001b[38;5;28mself\u001b[39m\u001b[38;5;241m.\u001b[39msample_initial(\n\u001b[0;32m   2056\u001b[0m                 nlive\u001b[38;5;241m=\u001b[39mnlive_init,\n\u001b[0;32m   2057\u001b[0m                 dlogz\u001b[38;5;241m=\u001b[39mdlogz_init,\n\u001b[0;32m   2058\u001b[0m                 maxcall\u001b[38;5;241m=\u001b[39mmaxcall_init,\n\u001b[0;32m   2059\u001b[0m                 maxiter\u001b[38;5;241m=\u001b[39mmaxiter_init,\n\u001b[0;32m   2060\u001b[0m                 logl_max\u001b[38;5;241m=\u001b[39mlogl_max_init,\n\u001b[0;32m   2061\u001b[0m                 live_points\u001b[38;5;241m=\u001b[39mlive_points,\n\u001b[0;32m   2062\u001b[0m                 n_effective\u001b[38;5;241m=\u001b[39mn_effective_init,\n\u001b[0;32m   2063\u001b[0m                 resume\u001b[38;5;241m=\u001b[39mresume,\n\u001b[0;32m   2064\u001b[0m                 save_samples\u001b[38;5;241m=\u001b[39m\u001b[38;5;28;01mTrue\u001b[39;00m):\n\u001b[0;32m   2065\u001b[0m             \u001b[38;5;28;01mif\u001b[39;00m resume:\n\u001b[0;32m   2066\u001b[0m                 resume \u001b[38;5;241m=\u001b[39m \u001b[38;5;28;01mFalse\u001b[39;00m\n",
      "File \u001b[1;32mc:\\Users\\alexa\\miniconda3\\envs\\su3flavour\\lib\\site-packages\\dynesty\\dynamicsampler.py:1336\u001b[0m, in \u001b[0;36mDynamicSampler.sample_initial\u001b[1;34m(self, nlive, update_interval, first_update, maxiter, maxcall, logl_max, dlogz, n_effective, live_points, save_samples, resume)\u001b[0m\n\u001b[0;32m   1334\u001b[0m     \u001b[38;5;28mself\u001b[39m\u001b[38;5;241m.\u001b[39minternal_state \u001b[38;5;241m=\u001b[39m DynamicSamplerStatesEnum\u001b[38;5;241m.\u001b[39mLIVEPOINTSINIT\n\u001b[0;32m   1335\u001b[0m     \u001b[38;5;66;03m# Run the sampler internally as a generator.\u001b[39;00m\n\u001b[1;32m-> 1336\u001b[0m \u001b[38;5;28;01mfor\u001b[39;00m it, results \u001b[38;5;129;01min\u001b[39;00m \u001b[38;5;28menumerate\u001b[39m(\n\u001b[0;32m   1337\u001b[0m         \u001b[38;5;28mself\u001b[39m\u001b[38;5;241m.\u001b[39msampler\u001b[38;5;241m.\u001b[39msample(maxiter\u001b[38;5;241m=\u001b[39mmaxiter,\n\u001b[0;32m   1338\u001b[0m                             save_samples\u001b[38;5;241m=\u001b[39msave_samples,\n\u001b[0;32m   1339\u001b[0m                             maxcall\u001b[38;5;241m=\u001b[39mmaxcall,\n\u001b[0;32m   1340\u001b[0m                             logl_max\u001b[38;5;241m=\u001b[39mlogl_max,\n\u001b[0;32m   1341\u001b[0m                             dlogz\u001b[38;5;241m=\u001b[39mdlogz,\n\u001b[0;32m   1342\u001b[0m                             resume\u001b[38;5;241m=\u001b[39mresume)):\n\u001b[0;32m   1343\u001b[0m     \u001b[38;5;66;03m# Grab results.\u001b[39;00m\n\u001b[0;32m   1344\u001b[0m \n\u001b[0;32m   1345\u001b[0m     \u001b[38;5;66;03m# Save our base run (which we will use later).\u001b[39;00m\n\u001b[0;32m   1346\u001b[0m     add_info \u001b[38;5;241m=\u001b[39m \u001b[38;5;28mdict\u001b[39m(\u001b[38;5;28mid\u001b[39m\u001b[38;5;241m=\u001b[39mresults\u001b[38;5;241m.\u001b[39mworst,\n\u001b[0;32m   1347\u001b[0m                     u\u001b[38;5;241m=\u001b[39mresults\u001b[38;5;241m.\u001b[39mustar,\n\u001b[0;32m   1348\u001b[0m                     v\u001b[38;5;241m=\u001b[39mresults\u001b[38;5;241m.\u001b[39mvstar,\n\u001b[1;32m   (...)\u001b[0m\n\u001b[0;32m   1360\u001b[0m                     bounditer\u001b[38;5;241m=\u001b[39mresults\u001b[38;5;241m.\u001b[39mbounditer,\n\u001b[0;32m   1361\u001b[0m                     scale\u001b[38;5;241m=\u001b[39m\u001b[38;5;28mself\u001b[39m\u001b[38;5;241m.\u001b[39msampler\u001b[38;5;241m.\u001b[39mscale)\n\u001b[0;32m   1363\u001b[0m     \u001b[38;5;28mself\u001b[39m\u001b[38;5;241m.\u001b[39mbase_run\u001b[38;5;241m.\u001b[39mappend(add_info)\n",
      "File \u001b[1;32mc:\\Users\\alexa\\miniconda3\\envs\\su3flavour\\lib\\site-packages\\dynesty\\sampler.py:848\u001b[0m, in \u001b[0;36mSampler.sample\u001b[1;34m(self, maxiter, maxcall, dlogz, logl_max, n_effective, add_live, save_bounds, save_samples, resume)\u001b[0m\n\u001b[0;32m    843\u001b[0m     old_blob \u001b[38;5;241m=\u001b[39m \u001b[38;5;28;01mNone\u001b[39;00m\n\u001b[0;32m    845\u001b[0m \u001b[38;5;66;03m# Sample a new live point from within the likelihood constraint\u001b[39;00m\n\u001b[0;32m    846\u001b[0m \u001b[38;5;66;03m# `logl > loglstar` using the bounding distribution and sampling\u001b[39;00m\n\u001b[0;32m    847\u001b[0m \u001b[38;5;66;03m# method from our sampler.\u001b[39;00m\n\u001b[1;32m--> 848\u001b[0m u, v, logl, nc \u001b[38;5;241m=\u001b[39m \u001b[38;5;28;43mself\u001b[39;49m\u001b[38;5;241;43m.\u001b[39;49m\u001b[43m_new_point\u001b[49m\u001b[43m(\u001b[49m\u001b[43mloglstar_new\u001b[49m\u001b[43m)\u001b[49m\n\u001b[0;32m    849\u001b[0m ncall \u001b[38;5;241m+\u001b[39m\u001b[38;5;241m=\u001b[39m nc\n\u001b[0;32m    850\u001b[0m \u001b[38;5;28mself\u001b[39m\u001b[38;5;241m.\u001b[39mncall \u001b[38;5;241m+\u001b[39m\u001b[38;5;241m=\u001b[39m nc\n",
      "File \u001b[1;32mc:\\Users\\alexa\\miniconda3\\envs\\su3flavour\\lib\\site-packages\\dynesty\\sampler.py:421\u001b[0m, in \u001b[0;36mSampler._new_point\u001b[1;34m(self, loglstar)\u001b[0m\n\u001b[0;32m    418\u001b[0m ncall_accum \u001b[38;5;241m=\u001b[39m \u001b[38;5;241m0\u001b[39m\n\u001b[0;32m    419\u001b[0m \u001b[38;5;28;01mwhile\u001b[39;00m \u001b[38;5;28;01mTrue\u001b[39;00m:\n\u001b[0;32m    420\u001b[0m     \u001b[38;5;66;03m# Get the next point from the queue\u001b[39;00m\n\u001b[1;32m--> 421\u001b[0m     u, v, logl, nc, blob \u001b[38;5;241m=\u001b[39m \u001b[38;5;28;43mself\u001b[39;49m\u001b[38;5;241;43m.\u001b[39;49m\u001b[43m_get_point_value\u001b[49m\u001b[43m(\u001b[49m\u001b[43mloglstar\u001b[49m\u001b[43m)\u001b[49m\n\u001b[0;32m    422\u001b[0m     ncall \u001b[38;5;241m+\u001b[39m\u001b[38;5;241m=\u001b[39m nc\n\u001b[0;32m    423\u001b[0m     ncall_accum \u001b[38;5;241m+\u001b[39m\u001b[38;5;241m=\u001b[39m nc\n",
      "File \u001b[1;32mc:\\Users\\alexa\\miniconda3\\envs\\su3flavour\\lib\\site-packages\\dynesty\\sampler.py:404\u001b[0m, in \u001b[0;36mSampler._get_point_value\u001b[1;34m(self, loglstar)\u001b[0m\n\u001b[0;32m    402\u001b[0m \u001b[38;5;66;03m# If the queue is empty, refill it.\u001b[39;00m\n\u001b[0;32m    403\u001b[0m \u001b[38;5;28;01mif\u001b[39;00m \u001b[38;5;28mself\u001b[39m\u001b[38;5;241m.\u001b[39mnqueue \u001b[38;5;241m<\u001b[39m\u001b[38;5;241m=\u001b[39m \u001b[38;5;241m0\u001b[39m:\n\u001b[1;32m--> 404\u001b[0m     \u001b[38;5;28;43mself\u001b[39;49m\u001b[38;5;241;43m.\u001b[39;49m\u001b[43m_fill_queue\u001b[49m\u001b[43m(\u001b[49m\u001b[43mloglstar\u001b[49m\u001b[43m)\u001b[49m\n\u001b[0;32m    406\u001b[0m \u001b[38;5;66;03m# Grab the earliest entry.\u001b[39;00m\n\u001b[0;32m    407\u001b[0m u, v, logl, nc, blob \u001b[38;5;241m=\u001b[39m \u001b[38;5;28mself\u001b[39m\u001b[38;5;241m.\u001b[39mqueue\u001b[38;5;241m.\u001b[39mpop(\u001b[38;5;241m0\u001b[39m)\n",
      "File \u001b[1;32mc:\\Users\\alexa\\miniconda3\\envs\\su3flavour\\lib\\site-packages\\dynesty\\sampler.py:397\u001b[0m, in \u001b[0;36mSampler._fill_queue\u001b[1;34m(self, loglstar)\u001b[0m\n\u001b[0;32m    387\u001b[0m \u001b[38;5;28;01mfor\u001b[39;00m i \u001b[38;5;129;01min\u001b[39;00m \u001b[38;5;28mrange\u001b[39m(\u001b[38;5;28mself\u001b[39m\u001b[38;5;241m.\u001b[39mqueue_size):\n\u001b[0;32m    388\u001b[0m     args\u001b[38;5;241m.\u001b[39mappend(\n\u001b[0;32m    389\u001b[0m         SamplerArgument(u\u001b[38;5;241m=\u001b[39mpoint_queue[i],\n\u001b[0;32m    390\u001b[0m                         loglstar\u001b[38;5;241m=\u001b[39mloglstar,\n\u001b[1;32m   (...)\u001b[0m\n\u001b[0;32m    395\u001b[0m                         rseed\u001b[38;5;241m=\u001b[39mseeds[i],\n\u001b[0;32m    396\u001b[0m                         kwargs\u001b[38;5;241m=\u001b[39m\u001b[38;5;28mself\u001b[39m\u001b[38;5;241m.\u001b[39mkwargs))\n\u001b[1;32m--> 397\u001b[0m \u001b[38;5;28mself\u001b[39m\u001b[38;5;241m.\u001b[39mqueue \u001b[38;5;241m=\u001b[39m \u001b[38;5;28;43mlist\u001b[39;49m\u001b[43m(\u001b[49m\u001b[43mmapper\u001b[49m\u001b[43m(\u001b[49m\u001b[43mevolve_point\u001b[49m\u001b[43m,\u001b[49m\u001b[43m \u001b[49m\u001b[43margs\u001b[49m\u001b[43m)\u001b[49m\u001b[43m)\u001b[49m\n",
      "File \u001b[1;32mc:\\Users\\alexa\\miniconda3\\envs\\su3flavour\\lib\\site-packages\\dynesty\\sampling.py:671\u001b[0m, in \u001b[0;36msample_rslice\u001b[1;34m(args)\u001b[0m\n\u001b[0;32m    668\u001b[0m drhat \u001b[38;5;241m/\u001b[39m\u001b[38;5;241m=\u001b[39m linalg\u001b[38;5;241m.\u001b[39mnorm(drhat)\n\u001b[0;32m    670\u001b[0m \u001b[38;5;66;03m# Transform and scale based on past tuning.\u001b[39;00m\n\u001b[1;32m--> 671\u001b[0m direction \u001b[38;5;241m=\u001b[39m \u001b[43mnp\u001b[49m\u001b[38;5;241;43m.\u001b[39;49m\u001b[43mdot\u001b[49m\u001b[43m(\u001b[49m\u001b[43maxes\u001b[49m\u001b[43m,\u001b[49m\u001b[43m \u001b[49m\u001b[43mdrhat\u001b[49m\u001b[43m)\u001b[49m \u001b[38;5;241m*\u001b[39m scale\n\u001b[0;32m    673\u001b[0m (u_prop, v_prop, logl_prop, nc1, nexpand1, ncontract1,\n\u001b[0;32m    674\u001b[0m  expansion_warning) \u001b[38;5;241m=\u001b[39m generic_slice_step(u, direction, nonperiodic,\n\u001b[0;32m    675\u001b[0m                                          loglstar, loglikelihood,\n\u001b[0;32m    676\u001b[0m                                          prior_transform, doubling,\n\u001b[0;32m    677\u001b[0m                                          rstate)\n\u001b[0;32m    678\u001b[0m u \u001b[38;5;241m=\u001b[39m u_prop\n",
      "\u001b[1;31mKeyboardInterrupt\u001b[0m: "
     ]
    }
   ],
   "source": [
    "ndim  = 25\n",
    "nlive = 500\n",
    "\n",
    "# Run and Save Dynesty\n",
    "\n",
    "#nworkers = os.cpu_count()\n",
    "#pool     = Pool(nworkers)\n",
    "sampler  = dynesty.DynamicNestedSampler(chi2,\n",
    "                                        prior_transform, \n",
    "                                        sample='rslice',\n",
    "                                        ndim=ndim, \n",
    "                                        nlive=nlive)\n",
    "                                        #pool=pool, \n",
    "                                        #queue_size=nworkers)\n",
    "sampler.run_nested()\n",
    "#pool.close()\n",
    "#pool.join()\n",
    "results = sampler.results"
   ]
  },
  {
   "cell_type": "code",
   "execution_count": null,
   "metadata": {},
   "outputs": [
    {
     "name": "stderr",
     "output_type": "stream",
     "text": [
      "0it [00:00, ?it/s]"
     ]
    }
   ],
   "source": [
    "if __name__ ==\"__main__\":\n",
    "  nthreads = os.cpu_count()\n",
    "  ndim = 25\n",
    "  nlive = 500\n",
    "  with mp.Pool(nthreads) as poo:\n",
    "      dns = dynesty.DynamicNestedSampler(chi2,\n",
    "                                      prior_transform,\n",
    "                                      ndim = ndim,\n",
    "                                      nlive=nlive,\n",
    "                                      sample='rslice',\n",
    "                                      pool=poo,\n",
    "                                      queue_size=nthreads * 2)\n",
    "      dns.run_nested(n_effective=100)\n",
    "    \n",
    "  res = dns.results"
   ]
  },
  {
   "cell_type": "code",
   "execution_count": 3,
   "metadata": {},
   "outputs": [
    {
     "name": "stdout",
     "output_type": "stream",
     "text": [
      "16\n"
     ]
    }
   ],
   "source": [
    "print(os.cpu_count())"
   ]
  },
  {
   "cell_type": "code",
   "execution_count": null,
   "metadata": {},
   "outputs": [],
   "source": []
  }
 ],
 "metadata": {
  "kernelspec": {
   "display_name": "su3flavour",
   "language": "python",
   "name": "python3"
  },
  "language_info": {
   "codemirror_mode": {
    "name": "ipython",
    "version": 3
   },
   "file_extension": ".py",
   "mimetype": "text/x-python",
   "name": "python",
   "nbconvert_exporter": "python",
   "pygments_lexer": "ipython3",
   "version": "3.10.16"
  }
 },
 "nbformat": 4,
 "nbformat_minor": 2
}
